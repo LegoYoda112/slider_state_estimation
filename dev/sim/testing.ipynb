{
 "cells": [
  {
   "cell_type": "code",
   "execution_count": 1,
   "metadata": {},
   "outputs": [],
   "source": [
    "# Import some basic libraries and functions for this tutorial.\n",
    "import numpy as np\n",
    "import os\n",
    "\n",
    "from dataclasses import dataclass\n",
    "\n",
    "from pydrake.common import FindResourceOrThrow, temp_directory\n",
    "from pydrake.geometry import (\n",
    "    MeshcatVisualizer,\n",
    "    MeshcatVisualizerParams,\n",
    "    Role,\n",
    "    StartMeshcat,\n",
    ")\n",
    "from pydrake.math import RigidTransform, RollPitchYaw\n",
    "from pydrake.multibody.parsing import Parser\n",
    "from pydrake.multibody.plant import AddMultibodyPlantSceneGraph\n",
    "from pydrake.systems.analysis import Simulator\n",
    "from pydrake.systems.framework import DiagramBuilder\n",
    "from pydrake.visualization import ModelVisualizer\n",
    "\n",
    "from pydrake.geometry import Rgba\n",
    "from pydrake.geometry import MeshcatVisualizerParams\n",
    "from pydrake.common.eigen_geometry import Quaternion\n",
    "\n",
    "import time"
   ]
  },
  {
   "cell_type": "markdown",
   "metadata": {},
   "source": []
  },
  {
   "cell_type": "code",
   "execution_count": 2,
   "metadata": {},
   "outputs": [
    {
     "name": "stderr",
     "output_type": "stream",
     "text": [
      "INFO:drake:Meshcat listening for connections at http://localhost:7001\n"
     ]
    }
   ],
   "source": [
    "# Start the visualizer. The cell will output an HTTP link after the execution.\n",
    "# Click the link and a MeshCat tab should appear in your browser.\n",
    "meshcat = StartMeshcat()"
   ]
  },
  {
   "cell_type": "code",
   "execution_count": 3,
   "metadata": {},
   "outputs": [
    {
     "name": "stderr",
     "output_type": "stream",
     "text": [
      "WARNING:drake:/Users/thomasg/Documents/github/slider_state_estimation/dev/sim/./models/urdf/slider_2_0_urdf.urdf:20: warning: Joint 'base_joint' specified as type floating which is not supported by MultibodyPlant.  Leaving 'base_link' as a free body.\n",
      "WARNING:drake:/Users/thomasg/Documents/github/slider_state_estimation/dev/sim/./models/urdf/slider_2_0_urdf-transparent.urdf:20: warning: Joint 'base_joint' specified as type floating which is not supported by MultibodyPlant.  Leaving 'base_link' as a free body.\n"
     ]
    }
   ],
   "source": [
    "# First we'll locate one of Drake's example model files, a KUKA iiwa arm.\n",
    "# Note that FindResourceOrThrow() is only used for models included with Drake.\n",
    "# Don't use FindResourceOrThrow for your own models.\n",
    "# iiwa7_model_file = FindResourceOrThrow(\n",
    "#     \"drake/manipulation/models/\"\n",
    "#     \"iiwa_description/iiwa7/iiwa7_with_box_collision.sdf\")\n",
    "\n",
    "slider_main_model_file = \"./models/urdf/slider_2_0_urdf.urdf\"\n",
    "slider_aux_model_file = \"./models/urdf/slider_2_0_urdf-transparent.urdf\"\n",
    "\n",
    "# Create a model visualizer and add the robot arm.\n",
    "# visualizer = ModelVisualizer(meshcat=meshcat)\n",
    "# visualizer.AddModels(slider_main_model_file)\n",
    "\n",
    "# visualizer.Run()\n",
    "\n",
    "builder = DiagramBuilder()\n",
    "plant, scene_graph = AddMultibodyPlantSceneGraph(builder, 0.0)\n",
    "\n",
    "parser = Parser(plant)\n",
    "slider_main = parser.AddModelFromFile(slider_main_model_file, model_name=\"slider_main\")\n",
    "slider_aux = parser.AddModelFromFile(slider_aux_model_file, model_name=\"slider_2\")\n",
    "\n",
    "meshcat_vis = MeshcatVisualizer.AddToBuilder(builder = builder, scene_graph = scene_graph, meshcat = meshcat, params = MeshcatVisualizerParams(default_color = Rgba(1, 0, 0, 0)))\n",
    "\n",
    "plant.Finalize()\n",
    "diagram = builder.Build()\n",
    "\n",
    "# Simulator(diagram).Initialize()\n",
    "diagram_context = diagram.CreateDefaultContext()\n"
   ]
  },
  {
   "cell_type": "code",
   "execution_count": null,
   "metadata": {},
   "outputs": [],
   "source": [
    "diagram_context.geometr"
   ]
  },
  {
   "cell_type": "code",
   "execution_count": 4,
   "metadata": {},
   "outputs": [],
   "source": [
    "plant_context = plant.GetMyContextFromRoot(diagram_context)\n",
    "\n",
    "# Main Robot\n",
    "base_link_main = plant.GetJointByName(\"$world_base_link\", slider_main)\n",
    "\n",
    "left_roll_main = plant.GetJointByName('Left_Roll', slider_main)\n",
    "left_pitch_main = plant.GetJointByName('Left_Pitch', slider_main)\n",
    "left_slide_main = plant.GetJointByName('Left_Slide', slider_main)\n",
    "left_foot_roll_main = plant.GetJointByName('Left_Foot_Roll', slider_main)\n",
    "left_foot_pitch_main = plant.GetJointByName('Left_Foot_Pitch', slider_main)\n",
    "\n",
    "right_roll_main = plant.GetJointByName('Right_Roll', slider_main)\n",
    "right_pitch_main = plant.GetJointByName('Right_Pitch', slider_main)\n",
    "right_slide_main = plant.GetJointByName('Right_Slide', slider_main)\n",
    "right_foot_roll_main = plant.GetJointByName('Right_Foot_Roll', slider_main)\n",
    "right_foot_pitch_main = plant.GetJointByName('Right_Foot_Pitch', slider_main)\n",
    "\n",
    "\n",
    "# Aux Robot\n",
    "base_link_aux = plant.GetJointByName(\"$world_base_link\", slider_aux)\n",
    "\n",
    "left_roll_aux = plant.GetJointByName('Left_Roll', slider_aux)\n",
    "left_pitch_aux = plant.GetJointByName('Left_Pitch', slider_aux)\n",
    "left_slide_aux = plant.GetJointByName('Left_Slide', slider_aux)\n",
    "left_foot_roll_aux = plant.GetJointByName('Left_Foot_Roll', slider_aux)\n",
    "left_foot_pitch_aux = plant.GetJointByName('Left_Foot_Pitch', slider_aux)\n",
    "\n",
    "right_roll_aux = plant.GetJointByName('Right_Roll', slider_aux)\n",
    "right_pitch_aux = plant.GetJointByName('Right_Pitch', slider_aux)\n",
    "right_slide_aux = plant.GetJointByName('Right_Slide', slider_aux)\n",
    "right_foot_roll_aux = plant.GetJointByName('Right_Foot_Roll', slider_aux)\n",
    "right_foot_pitch_aux = plant.GetJointByName('Right_Foot_Pitch', slider_aux)"
   ]
  },
  {
   "cell_type": "code",
   "execution_count": 195,
   "metadata": {},
   "outputs": [],
   "source": [
    "right_foot_roll_main.set_angle(plant_context, -0.0)\n",
    "right_pitch_main.set_angle(plant_context, 0.0)\n",
    "right_roll_main.set_angle(plant_context, 0.0)\n",
    "right_slide_main.set_translation(plant_context, 0.0)\n",
    "\n",
    "base_link_main.set_position(plant_context, np.array([0.5, 0, 0]))\n",
    "\n",
    "quat = np.array([0.5, 0.0, 0, 0])\n",
    "quat = Quaternion(quat / np.linalg.norm(quat))\n",
    "base_link_main.set_quaternion(plant_context, quat)\n",
    "\n",
    "def set_q_main(q):\n",
    "    left_roll_main.set_angle(plant_context, q[0]),\n",
    "    left_pitch_main.set_angle(plant_context, q[1])\n",
    "    left_slide_main.set_translation(plant_context, q[2])\n",
    "    left_foot_roll_main.set_angle(plant_context, q[3])\n",
    "    left_foot_pitch_main.set_angle(plant_context, q[4])\n",
    "\n",
    "    right_roll_main.set_angle(plant_context, q[5])\n",
    "    right_pitch_main.set_angle(plant_context, q[6])\n",
    "    right_slide_main.set_translation(plant_context, q[7])\n",
    "    right_foot_roll_main.set_angle(plant_context, q[8])\n",
    "    right_foot_pitch_main.set_angle(plant_context, q[9])\n",
    "\n",
    "def get_q_main():\n",
    "    q_main = [\n",
    "        left_roll_main.get_angle(plant_context),\n",
    "        left_pitch_main.get_angle(plant_context),\n",
    "        left_slide_main.get_translation(plant_context),\n",
    "        left_foot_roll_main.get_angle(plant_context),\n",
    "        left_foot_pitch_main.get_angle(plant_context),\n",
    "\n",
    "        right_roll_main.get_angle(plant_context),\n",
    "        right_pitch_main.get_angle(plant_context),\n",
    "        right_slide_main.get_translation(plant_context),\n",
    "        right_foot_roll_main.get_angle(plant_context),\n",
    "        right_foot_pitch_main.get_angle(plant_context)\n",
    "    ]\n",
    "    return q_main\n",
    "\n",
    "\n",
    "# Calculates relative robot position based on orientation and joint angles\n",
    "contact_point = np.array([0,0,0])\n",
    "current_contact_frame = \"\"\n",
    "previous_contact_frame = \"Left_Foot\"\n",
    "\n",
    "\n",
    "velocity_estimate = np.zeros(3)\n",
    "previous_body_pos = np.zeros(3)\n",
    "\n",
    "def get_world_position_of_frame(name, robot):\n",
    "    frame = plant.GetFrameByName(name, robot)\n",
    "    frame_pose = frame.CalcPoseInWorld(plant_context)\n",
    "    frame_position = np.array(frame_pose.translation())\n",
    "\n",
    "    return frame_position\n",
    "\n",
    "def calculate_rel_robot_position(quaternion, q, initial = False):\n",
    "    time_dt = 0.02\n",
    "    global previous_contact_frame\n",
    "    global current_contact_frame\n",
    "    global previous_body_pos\n",
    "    global velocity_estimate\n",
    "    global contact_point\n",
    "\n",
    "    base_link_aux.set_quaternion(plant_context, quaternion)\n",
    "\n",
    "    # base_link_aux.set_position(plant_context, [0,0,0])\n",
    "\n",
    "    # Copy joint angles\n",
    "    left_roll_aux.set_angle(plant_context, q[0])\n",
    "    left_pitch_aux.set_angle(plant_context, q[1])\n",
    "    left_slide_aux.set_translation(plant_context, q[2])\n",
    "    left_foot_roll_aux.set_angle(plant_context, q[3])\n",
    "    left_foot_pitch_aux.set_angle(plant_context, q[4])\n",
    "\n",
    "    right_roll_aux.set_angle(plant_context, q[5])\n",
    "    right_pitch_aux.set_angle(plant_context, q[6])\n",
    "    right_slide_aux.set_translation(plant_context, q[7])\n",
    "    right_foot_roll_aux.set_angle(plant_context, q[8])\n",
    "    right_foot_pitch_aux.set_angle(plant_context, q[9])\n",
    "\n",
    "    base_frame_position = get_world_position_of_frame(\"base_link\", slider_aux)\n",
    "\n",
    "    left_foot_world_position = get_world_position_of_frame(\"Left_Foot\", slider_aux) - np.array([0,0,0.03])\n",
    "    left_foot_rel_position = left_foot_world_position - base_frame_position\n",
    "    right_foot_world_position = get_world_position_of_frame(\"Right_Foot\", slider_aux) - np.array([0,0,0.03])\n",
    "    right_foot_rel_position = right_foot_world_position - base_frame_position\n",
    "\n",
    "    # Contact point relative to robot base link\n",
    "    # print(\"Left_Foot\", left_foot_world_position)\n",
    "    # print(\"Right_Foot\", right_foot_world_position)\n",
    "\n",
    "    # If left foot is lower than right foot, assume it is in contact with the ground\n",
    "\n",
    "    if(left_foot_world_position[2] < right_foot_world_position[2]):\n",
    "        contact_offset = left_foot_rel_position\n",
    "        current_contact_frame = \"Left_Foot\"\n",
    "    else:\n",
    "        contact_offset = right_foot_rel_position\n",
    "        current_contact_frame = \"Right_Foot\"\n",
    "\n",
    "    # if(abs(left_foot_world_position[2] - right_foot_world_position[2]) < 0.01):\n",
    "    #     contact_offset = (left_foot_rel_position + right_foot_rel_position) / 2.0\n",
    "    #     current_contact_frame = \"Middle\"\n",
    "\n",
    "    if(current_contact_frame != previous_contact_frame and not initial):\n",
    "        # base_link_aux.set_position(plant_context, contact_point - contact_offset)\n",
    "        #if(current_contact_frame == \"Middle\"):\n",
    "        #    next_contact_point = (left_foot_world_position + right_foot_world_position) / 2.0\n",
    "        #else:\n",
    "        prev_contact_offset = get_world_position_of_frame(previous_contact_frame, slider_aux) - base_frame_position\n",
    "        base_link_aux.set_position(plant_context, contact_point - prev_contact_offset)\n",
    "\n",
    "        contact_point = get_world_position_of_frame(current_contact_frame, slider_aux)\n",
    "    \n",
    "    if(initial):\n",
    "        contact_point = [0, -0.2, 0]\n",
    "\n",
    "    # Set contact point on the ground\n",
    "    contact_point[2] = 0\n",
    "\n",
    "    base_link_aux.set_position(plant_context, contact_point - contact_offset)\n",
    "\n",
    "    previous_contact_frame = current_contact_frame\n",
    "\n",
    "    # Update velocity estimate\n",
    "    current_body_pos = get_world_position_of_frame(\"base_link\", slider_aux);\n",
    "    velocity_estimate = (current_body_pos - previous_body_pos) / time_dt\n",
    "    previous_body_pos = current_body_pos\n",
    "    # print(velocity_estimate)\n",
    "\n",
    "\n",
    "calculate_rel_robot_position(base_link_main.get_quaternion(plant_context), get_q_main(), True)\n",
    "\n",
    "# print(base_link_main.get_pose(plant_context))\n",
    "\n",
    "diagram.ForcedPublish(diagram_context)"
   ]
  },
  {
   "cell_type": "code",
   "execution_count": null,
   "metadata": {},
   "outputs": [],
   "source": []
  },
  {
   "cell_type": "code",
   "execution_count": 13,
   "metadata": {},
   "outputs": [],
   "source": [
    "# calculate_rel_robot_position(base_link_main.get_quaternion(plant_context), get_q_main(), True)\n",
    "\n",
    "for t in range(1000):\n",
    "    quat = np.array([0.5, 0.1 * np.sin(t * 0.03), 0, 0])\n",
    "    quat = Quaternion(quat / np.linalg.norm(quat))\n",
    "    base_link_main.set_quaternion(plant_context, quat)\n",
    "    \n",
    "    right_pitch_main.set_angle(plant_context, 0.3 * np.cos(t * 0.03))\n",
    "\n",
    "    calculate_rel_robot_position(base_link_main.get_quaternion(plant_context), get_q_main())\n",
    "\n",
    "    diagram.ForcedPublish(diagram_context)\n",
    "    time.sleep(0.01)"
   ]
  },
  {
   "cell_type": "code",
   "execution_count": 227,
   "metadata": {},
   "outputs": [
    {
     "name": "stdout",
     "output_type": "stream",
     "text": [
      "Using cpu device\n",
      "Wrapping the env with a `Monitor` wrapper\n",
      "Wrapping the env in a DummyVecEnv.\n",
      "Wrapping the env with a `Monitor` wrapper\n",
      "Wrapping the env in a DummyVecEnv.\n"
     ]
    },
    {
     "ename": "KeyboardInterrupt",
     "evalue": "",
     "output_type": "error",
     "traceback": [
      "\u001b[0;31m---------------------------------------------------------------------------\u001b[0m",
      "\u001b[0;31mKeyboardInterrupt\u001b[0m                         Traceback (most recent call last)",
      "Cell \u001b[0;32mIn[227], line 50\u001b[0m\n\u001b[1;32m     47\u001b[0m action, _state \u001b[39m=\u001b[39m model\u001b[39m.\u001b[39mpredict(obs, deterministic\u001b[39m=\u001b[39m\u001b[39mTrue\u001b[39;00m)\n\u001b[1;32m     49\u001b[0m obs, reward, done, info \u001b[39m=\u001b[39m env\u001b[39m.\u001b[39mstep(action)\n\u001b[0;32m---> 50\u001b[0m env\u001b[39m.\u001b[39;49mrender()\n\u001b[1;32m     52\u001b[0m ground_truth_position \u001b[39m=\u001b[39m env\u001b[39m.\u001b[39mdata\u001b[39m.\u001b[39mqpos[\u001b[39m0\u001b[39m:\u001b[39m3\u001b[39m]\n\u001b[1;32m     53\u001b[0m \u001b[39m# print(ground_truth_position)\u001b[39;00m\n",
      "File \u001b[0;32m~/Documents/github/slider_state_estimation/dev/sim/SliderEnv.py:130\u001b[0m, in \u001b[0;36mSliderEnv.render\u001b[0;34m(self)\u001b[0m\n\u001b[1;32m    127\u001b[0m mj\u001b[39m.\u001b[39mmjv_updateScene(\u001b[39mself\u001b[39m\u001b[39m.\u001b[39mmodel, \u001b[39mself\u001b[39m\u001b[39m.\u001b[39mdata, \u001b[39mself\u001b[39m\u001b[39m.\u001b[39mopt, \u001b[39mNone\u001b[39;00m, \u001b[39mself\u001b[39m\u001b[39m.\u001b[39mcam, mj\u001b[39m.\u001b[39mmjtCatBit\u001b[39m.\u001b[39mmjCAT_ALL\u001b[39m.\u001b[39mvalue, \u001b[39mself\u001b[39m\u001b[39m.\u001b[39mscene)\n\u001b[1;32m    128\u001b[0m mj\u001b[39m.\u001b[39mmjr_render(viewport, \u001b[39mself\u001b[39m\u001b[39m.\u001b[39mscene, \u001b[39mself\u001b[39m\u001b[39m.\u001b[39mcontext)\n\u001b[0;32m--> 130\u001b[0m mj\u001b[39m.\u001b[39;49mglfw\u001b[39m.\u001b[39;49mglfw\u001b[39m.\u001b[39;49mswap_buffers(\u001b[39mself\u001b[39;49m\u001b[39m.\u001b[39;49mwindow)\n\u001b[1;32m    131\u001b[0m mj\u001b[39m.\u001b[39mglfw\u001b[39m.\u001b[39mglfw\u001b[39m.\u001b[39mpoll_events()\n\u001b[1;32m    133\u001b[0m \u001b[39mreturn\u001b[39;00m\n",
      "File \u001b[0;32m~/opt/miniconda3/envs/slider_state_estimation/lib/python3.10/site-packages/glfw/__init__.py:2373\u001b[0m, in \u001b[0;36mswap_buffers\u001b[0;34m(window)\u001b[0m\n\u001b[1;32m   2366\u001b[0m \u001b[39mdef\u001b[39;00m \u001b[39mswap_buffers\u001b[39m(window):\n\u001b[1;32m   2367\u001b[0m     \u001b[39m\"\"\"\u001b[39;00m\n\u001b[1;32m   2368\u001b[0m \u001b[39m    Swaps the front and back buffers of the specified window.\u001b[39;00m\n\u001b[1;32m   2369\u001b[0m \n\u001b[1;32m   2370\u001b[0m \u001b[39m    Wrapper for:\u001b[39;00m\n\u001b[1;32m   2371\u001b[0m \u001b[39m        void glfwSwapBuffers(GLFWwindow* window);\u001b[39;00m\n\u001b[1;32m   2372\u001b[0m \u001b[39m    \"\"\"\u001b[39;00m\n\u001b[0;32m-> 2373\u001b[0m     _glfw\u001b[39m.\u001b[39;49mglfwSwapBuffers(window)\n",
      "File \u001b[0;32m~/opt/miniconda3/envs/slider_state_estimation/lib/python3.10/site-packages/glfw/__init__.py:682\u001b[0m, in \u001b[0;36m_prepare_errcheck.<locals>.errcheck\u001b[0;34m(result, *args)\u001b[0m\n\u001b[1;32m    674\u001b[0m \u001b[39mdef\u001b[39;00m \u001b[39m_prepare_errcheck\u001b[39m():\n\u001b[1;32m    675\u001b[0m     \u001b[39m\"\"\"\u001b[39;00m\n\u001b[1;32m    676\u001b[0m \u001b[39m    This function sets the errcheck attribute of all ctypes wrapped functions\u001b[39;00m\n\u001b[1;32m    677\u001b[0m \u001b[39m    to evaluate the _exc_info_from_callback global variable and re-raise any\u001b[39;00m\n\u001b[0;32m   (...)\u001b[0m\n\u001b[1;32m    680\u001b[0m \u001b[39m    using the _callback_exception_decorator.\u001b[39;00m\n\u001b[1;32m    681\u001b[0m \u001b[39m    \"\"\"\u001b[39;00m\n\u001b[0;32m--> 682\u001b[0m     \u001b[39mdef\u001b[39;00m \u001b[39merrcheck\u001b[39m(result, \u001b[39m*\u001b[39margs):\n\u001b[1;32m    683\u001b[0m         \u001b[39mglobal\u001b[39;00m _exc_info_from_callback\n\u001b[1;32m    684\u001b[0m         \u001b[39mif\u001b[39;00m _exc_info_from_callback \u001b[39mis\u001b[39;00m \u001b[39mnot\u001b[39;00m \u001b[39mNone\u001b[39;00m:\n",
      "\u001b[0;31mKeyboardInterrupt\u001b[0m: "
     ]
    }
   ],
   "source": [
    "calculate_rel_robot_position(base_link_main.get_quaternion(plant_context), get_q_main(), True)\n",
    "diagram.ForcedPublish(diagram_context)\n",
    "\n",
    "\n",
    "from SliderEnv import SliderEnv\n",
    "import time\n",
    "import os\n",
    "import glob\n",
    "import numpy as np\n",
    "\n",
    "from stable_baselines3 import PPO\n",
    "\n",
    "import matplotlib\n",
    "from matplotlib import pyplot as plt\n",
    "\n",
    "import copy\n",
    "\n",
    "env = SliderEnv()\n",
    "\n",
    "model = PPO(\"MlpPolicy\", env, verbose=1, learning_rate = 0.0005, \n",
    "      tensorboard_log=\"./trained_models/tensorboard\")\n",
    "# n_steps = int(8192 * 0.5),\n",
    "timesteps = 100_000\n",
    "total_timesteps = 0\n",
    "\n",
    "trial_name = \"weaker-pid-step-time-0-6\"\n",
    "model_save_path = \"./trained_models/\" + trial_name\n",
    "\n",
    "model =  PPO.load(model_save_path + \"/model-20\", env=env)\n",
    "\n",
    "forward = False\n",
    "\n",
    "speed = 1.0\n",
    "\n",
    "env.step_time = 0.6\n",
    "env.sim_steps = 10\n",
    "\n",
    "force_data = []\n",
    "vel_data = []\n",
    "\n",
    "while True:\n",
    "      # Reset enviroment\n",
    "      obs = env.reset()\n",
    "      # Render things\n",
    "      for i in range(2000):\n",
    "\n",
    "            action, _state = model.predict(obs, deterministic=True)\n",
    "\n",
    "            obs, reward, done, info = env.step(action)\n",
    "            env.render()\n",
    "\n",
    "            ground_truth_position = env.data.qpos[0:3]\n",
    "            # print(ground_truth_position)\n",
    "\n",
    "            base_link_main.set_position(plant_context, ground_truth_position)\n",
    "\n",
    "            obs = obs + np.random.randn(obs.shape[0]) * 0.001\n",
    "\n",
    "            ## print([obs[1], obs[2], obs[3]])\n",
    "            vel_data.append(obs[1])\n",
    "            obs[1:4] = velocity_estimate\n",
    "            obs[0] = 0.5\n",
    "\n",
    "            quat = np.array([obs[10] * 1.1, \n",
    "                             obs[11] * 1.1, \n",
    "                             obs[12] * 1.1, \n",
    "                             obs[13] * 1.1])\n",
    "            quat = quat / np.linalg.norm(quat)\n",
    "            quat = Quaternion(quat)\n",
    "\n",
    "            base_link_main.set_quaternion(plant_context, quat)\n",
    "\n",
    "            set_q_main([\n",
    "                  obs[18],\n",
    "                  obs[22],\n",
    "                  obs[14],\n",
    "                  obs[30],\n",
    "                  obs[26],\n",
    "\n",
    "                  obs[20],\n",
    "                  obs[24],\n",
    "                  obs[16],\n",
    "                  obs[32],\n",
    "                  obs[28],\n",
    "            ])\n",
    "\n",
    "            obs = obs + np.random.randn(obs.shape[0]) * 0.01\n",
    "\n",
    "            calculate_rel_robot_position(base_link_main.get_quaternion(plant_context), get_q_main())\n",
    "            diagram.ForcedPublish(diagram_context)\n",
    "\n",
    "            force_data.append(copy.copy(env.data.sensor(\"left-foot-touch\").data))\n",
    "\n",
    "\n",
    "            time.sleep(0.015)\n",
    "      \n",
    "      break\n"
   ]
  },
  {
   "cell_type": "code",
   "execution_count": 226,
   "metadata": {},
   "outputs": [],
   "source": [
    "env.close()"
   ]
  },
  {
   "cell_type": "code",
   "execution_count": 154,
   "metadata": {},
   "outputs": [
    {
     "name": "stdout",
     "output_type": "stream",
     "text": [
      "1000\n"
     ]
    },
    {
     "data": {
      "text/plain": [
       "<matplotlib.collections.LineCollection at 0x3c51081f0>"
      ]
     },
     "execution_count": 154,
     "metadata": {},
     "output_type": "execute_result"
    },
    {
     "data": {
      "image/png": "[encoded data removed]",
      "text/plain": [
       "<Figure size 640x480 with 1 Axes>"
      ]
     },
     "metadata": {},
     "output_type": "display_data"
    }
   ],
   "source": [
    "print(len(vel_data))\n",
    "plt.plot(vel_data)\n",
    "plt.hlines([0.5], 0, 1000)"
   ]
  },
  {
   "cell_type": "code",
   "execution_count": 53,
   "metadata": {},
   "outputs": [
    {
     "name": "stdout",
     "output_type": "stream",
     "text": [
      "[ 0.92387953 -0.38268343  0.          0.        ]\n"
     ]
    }
   ],
   "source": [
    "from pydrake.common.eigen_geometry import Quaternion\n",
    "import numpy as np\n",
    "\n",
    "def normalize(w,x,y,z):\n",
    "        quat = np.array([w,x,y,z])\n",
    "        return quat/np.linalg.norm(quat)\n",
    "\n",
    "v1 = np.array([0, 0, 1])\n",
    "v2 = np.array([0, 1, 1])\n",
    "\n",
    "v_cross = np.array([v1[1] * v2[2] - v1[2] * v2[1],\n",
    "                   v1[2] * v2[0] - v1[0] * v2[2],\n",
    "                   v1[0] * v2[1] - v1[1] * v2[0]])\n",
    "# v_cross = np.cross(v1, v2)\n",
    "\n",
    "quat = np.zeros(4)\n",
    "\n",
    "quat[0] = (np.linalg.norm(v1) * np.linalg.norm(v2)) + v1.dot(v2)\n",
    "quat[1:4] = v_cross\n",
    "\n",
    "quat = quat/np.linalg.norm(quat)\n",
    "\n",
    "print(quat)\n"
   ]
  },
  {
   "cell_type": "code",
   "execution_count": 115,
   "metadata": {},
   "outputs": [
    {
     "data": {
      "text/plain": [
       "array([1.29173696e-04, 9.99999992e-01, 0.00000000e+00, 0.00000000e+00])"
      ]
     },
     "execution_count": 115,
     "metadata": {},
     "output_type": "execute_result"
    }
   ],
   "source": [
    "w = [0, 1.0 * np.pi, 0, 0] # rads/s\n",
    "q0 = np.array([1, 0, 0, 0])\n",
    "\n",
    "# * np.pi\n",
    "\n",
    "def q_mul(q1, q2):\n",
    "    w1, x1, y1, z1 = q1\n",
    "    w2, x2, y2, z2 = q2\n",
    "    w = w1 * w2 - x1 * x2 - y1 * y2 - z1 * z2\n",
    "    x = w1 * x2 + x1 * w2 + y1 * z2 - z1 * y2\n",
    "    y = w1 * y2 + y1 * w2 + z1 * x2 - x1 * z2\n",
    "    z = w1 * z2 + z1 * w2 + x1 * y2 - y1 * x2\n",
    "    return np.array([w, x, y, z])\n",
    "\n",
    "def inv(q1):\n",
    "    w1, x1, y1, z1 = q1\n",
    "    return np.array([w1, -x1, -y1, -z1])\n",
    "\n",
    "t_step = 0.01\n",
    "for i in range(0, 100):\n",
    "    q0 = q0 + (t_step / 2.0) * q_mul(w, q0)\n",
    "    q0 = q0/np.linalg.norm(q0)\n",
    "\n",
    "# 0.5 * q_mul(w, q0)\n",
    "\n",
    "q0"
   ]
  },
  {
   "cell_type": "code",
   "execution_count": 100,
   "metadata": {},
   "outputs": [
    {
     "name": "stdout",
     "output_type": "stream",
     "text": [
      "[0, 0, 3.141592653589793, 0]\n",
      "[ 0.          0.         -3.14159265  0.        ]\n"
     ]
    }
   ],
   "source": [
    "\n",
    "imu_quat = np.array([0, 1, 0, 0])\n",
    "imu_quat = imu_quat / np.linalg.norm(imu_quat)\n",
    "\n",
    "print(w)\n",
    "print(q_mul(q_mul(imu_quat, w), inv(imu_quat)))"
   ]
  },
  {
   "cell_type": "code",
   "execution_count": 114,
   "metadata": {},
   "outputs": [
    {
     "data": {
      "text/plain": [
       "array([0, 1, 2, 3, 4, 5, 6, 7, 8, 9])"
      ]
     },
     "execution_count": 114,
     "metadata": {},
     "output_type": "execute_result"
    }
   ],
   "source": []
  }
 ],
 "metadata": {
  "kernelspec": {
   "display_name": "slider_state_estimation",
   "language": "python",
   "name": "python3"
  },
  "language_info": {
   "codemirror_mode": {
    "name": "ipython",
    "version": 3
   },
   "file_extension": ".py",
   "mimetype": "text/x-python",
   "name": "python",
   "nbconvert_exporter": "python",
   "pygments_lexer": "ipython3",
   "version": "3.10.8"
  },
  "orig_nbformat": 4,
  "vscode": {
   "interpreter": {
    "hash": "34eb3db17e37a25e672d9073d366c868856ed10e377d9bb1f2ae67055d676169"
   }
  }
 },
 "nbformat": 4,
 "nbformat_minor": 2
}
