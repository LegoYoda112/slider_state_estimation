{
 "cells": [
  {
   "cell_type": "code",
   "execution_count": 5,
   "metadata": {},
   "outputs": [],
   "source": [
    "import numpy as np\n",
    "import os\n",
    "\n",
    "from matplotlib import pyplot as plt\n",
    "\n",
    "import pydot\n",
    "\n",
    "from IPython.display import SVG, display\n",
    "\n",
    "from pydrake.common import temp_directory\n",
    "from pydrake.geometry import (\n",
    "    MeshcatVisualizer,\n",
    "    MeshcatVisualizerParams,\n",
    "    Role,\n",
    "    StartMeshcat,\n",
    ")\n",
    "\n",
    "from pydrake.math import RigidTransform, RollPitchYaw\n",
    "from pydrake.multibody.parsing import Parser\n",
    "from pydrake.multibody.plant import AddMultibodyPlantSceneGraph\n",
    "from pydrake.systems.analysis import Simulator\n",
    "from pydrake.systems.framework import DiagramBuilder\n",
    "from pydrake.visualization import ModelVisualizer\n",
    "from pydrake.systems.primitives import LogVectorOutput\n",
    "from pydrake.systems.controllers import PidController\n",
    "\n",
    "test_mode = True if \"TEST_SRCDIR\" in os.environ else False"
   ]
  },
  {
   "cell_type": "code",
   "execution_count": 7,
   "metadata": {},
   "outputs": [
    {
     "name": "stderr",
     "output_type": "stream",
     "text": [
      "INFO:drake:Meshcat listening for connections at http://localhost:7001\n"
     ]
    }
   ],
   "source": [
    "meshcat = StartMeshcat()"
   ]
  },
  {
   "cell_type": "code",
   "execution_count": 10,
   "metadata": {},
   "outputs": [
    {
     "name": "stdout",
     "output_type": "stream",
     "text": [
      "Click 'Stop Running' or press Esc to quit\n"
     ]
    },
    {
     "data": {
      "text/plain": [
       "<RunResult.STOPPED: 2>"
      ]
     },
     "execution_count": 10,
     "metadata": {},
     "output_type": "execute_result"
    }
   ],
   "source": [
    "# Define a simple cylinder model.\n",
    "pendulum_sdf = \"\"\"<?xml version=\"1.0\"?>\n",
    "<sdf version=\"1.7\">\n",
    "  <model name=\"pendulum\">\n",
    "    <pose>0 0 0 0 0 0</pose>\n",
    "    <link name = \"pendulum_link\">\n",
    "      <inertial>\n",
    "        <mass>1.0</mass>\n",
    "      </inertial>\n",
    "      <visual name=\"base\">\n",
    "        <geometry>\n",
    "          <cylinder>\n",
    "            <radius>0.1</radius>\n",
    "            <length>1.0</length>\n",
    "          </cylinder>\n",
    "        </geometry>\n",
    "      </visual>\n",
    "      <collision name=\"base_col\">\n",
    "        <geometry>\n",
    "          <cylinder>\n",
    "            <radius>0.1</radius>\n",
    "            <length>1.0</length>\n",
    "          </cylinder>\n",
    "        </geometry>\n",
    "      </collision>\n",
    "    </link>\n",
    "\n",
    "    <link name = \"pendulum_link_2\">\n",
    "      <pose>0 0 -1.0 0 0 0</pose>\n",
    "      <inertial>\n",
    "        <mass>1.0</mass>\n",
    "      </inertial>\n",
    "      <visual name=\"base\">\n",
    "        <geometry>\n",
    "          <cylinder>\n",
    "            <radius>0.1</radius>\n",
    "            <length>1.0</length>\n",
    "          </cylinder>\n",
    "        </geometry>\n",
    "      </visual>\n",
    "      <collision name=\"base_col\">\n",
    "        <geometry>\n",
    "          <cylinder>\n",
    "            <radius>0.1</radius>\n",
    "            <length>1.0</length>\n",
    "          </cylinder>\n",
    "        </geometry>\n",
    "      </collision>\n",
    "    </link>\n",
    "\n",
    "    <joint name=\"world_to_upper_pin_joint\" type=\"revolute\">\n",
    "      <parent>world</parent>\n",
    "      <child>pendulum_link</child>\n",
    "      <pose>0 0 0.5 0 0 0</pose>\n",
    "      <axis>\n",
    "        <!-- spins about x axis -->\n",
    "        <xyz>1 0 0</xyz>\n",
    "      </axis>\n",
    "    </joint>\n",
    "\n",
    "    <joint name=\"upper_pin_to_lower_pin_joint\" type=\"revolute\">\n",
    "      <parent>pendulum_link</parent>\n",
    "      <child>pendulum_link_2</child>\n",
    "      <pose>0 0 0.5 0 0 0</pose>\n",
    "      <axis>\n",
    "        <!-- spins about x axis -->\n",
    "        <xyz>1 0 0</xyz>\n",
    "      </axis>\n",
    "    </joint>\n",
    "\n",
    "\n",
    "  </model>\n",
    "</sdf>\n",
    "\"\"\"\n",
    "\n",
    "table_top_sdf = \"\"\"<?xml version=\"1.0\"?>\n",
    "<sdf version=\"1.7\">\n",
    "  <model name=\"table_top\">\n",
    "    <link name=\"table_top_link\">\n",
    "      <visual name=\"visual\">\n",
    "        <pose>0 0 0 0 0 0</pose>\n",
    "        <geometry>\n",
    "          <box>\n",
    "            <size>0.55 1.1 0.05</size>\n",
    "          </box>\n",
    "        </geometry>\n",
    "        <material>\n",
    "         <diffuse>0.9 0.8 0.7 1.0</diffuse>\n",
    "        </material>\n",
    "      </visual>\n",
    "      <collision name=\"collision\">\n",
    "        <pose>0 0 0 0 0 0</pose>\n",
    "        <geometry>\n",
    "          <box>\n",
    "            <size>0.55 1.1 0.05</size>\n",
    "          </box>\n",
    "        </geometry>\n",
    "      </collision>\n",
    "    </link>\n",
    "    <frame name=\"table_top_center\">\n",
    "      <pose relative_to=\"table_top_link\">0 0 0 0 0 0</pose>\n",
    "    </frame>\n",
    "  </model>\n",
    "</sdf>\n",
    "\n",
    "\"\"\"\n",
    "\n",
    "# Visualize the cylinder from the SDFormat string you just defined.\n",
    "visualizer = ModelVisualizer(meshcat=meshcat)\n",
    "visualizer.parser().AddModelsFromString(pendulum_sdf, \"sdf\")\n",
    "# visualizer.parser().AddModelsFromString(table_top_sdf, \"sdf\")\n",
    "\n",
    "# Click the \"Stop Running\" button in MeshCat when you're finished.\n",
    "visualizer.Run(loop_once=test_mode)"
   ]
  },
  {
   "cell_type": "code",
   "execution_count": 153,
   "metadata": {},
   "outputs": [],
   "source": [
    "def create_scene(sim_time_step = 0.0001):\n",
    "\n",
    "    meshcat.Delete()\n",
    "    meshcat.DeleteAddedControls()\n",
    "\n",
    "    builder = DiagramBuilder()\n",
    "    plant, scene_graph = AddMultibodyPlantSceneGraph(\n",
    "        builder, time_step = sim_time_step\n",
    "    )\n",
    "    parser = Parser(plant)\n",
    "\n",
    "    parser.AddModelsFromString(pendulum_sdf, \"sdf\")\n",
    "    # parser.AddModelsFromString(table_top_sdf, \"sdf\")\n",
    "\n",
    "    # table_frame = plant.GetFrameByName(\"table_top_center\")\n",
    "    # plant.WeldFrames(plant.world_frame(), table_frame)\n",
    "\n",
    "    plant.Finalize()\n",
    "    plant_context = plant.CreateDefaultContext()\n",
    "\n",
    "    # Add a PID controller.\n",
    "    # controller = builder.AddNamedSystem(\"controller\",\n",
    "    #                                 PidController(kp=[12.], ki=[1.], kd=[1.]))\n",
    "    \n",
    "    # builder.Connect(plant.get_state_output_port(),\n",
    "    #             controller.get_input_port_estimated_state())\n",
    "    # builder.Connect(controller.get_output_port_control(), plant.get_actuation_input_port())\n",
    "\n",
    "    # builder.ExportInput(controller.get_input_port_desired_state())\n",
    "\n",
    "    # plant.get_actuation_input_port().FixValue(plant_context, np.zeros(plant.num_actuators()))\n",
    "\n",
    "    # cylinder = plant.GetBodyByName(\"cylinder_link\")\n",
    "    # X_WorldTable = table_frame.CalcPoseInWorld(plant_context)\n",
    "    # X_TableCylinder = RigidTransform(\n",
    "    #     RollPitchYaw(np.asarray([90, 0, 0]) * np.pi / 180), p = [0,0,1.0]\n",
    "    # )\n",
    "    # X_WorldCylinder = X_WorldTable.multiply(X_TableCylinder)\n",
    "    # plant.SetDefaultFreeBodyPose(cylinder, X_WorldCylinder)\n",
    "\n",
    "    logger = LogVectorOutput(plant.get_state_output_port(), builder)\n",
    "    logger.set_name(\"logger\")\n",
    "\n",
    "    visualizer = MeshcatVisualizer.AddToBuilder(\n",
    "        builder, scene_graph, meshcat,\n",
    "        MeshcatVisualizerParams(role = Role.kPerception, prefix=\"visual\")\n",
    "    )\n",
    "\n",
    "    diagram = builder.Build()\n",
    "\n",
    "    return diagram, visualizer, plant, logger\n",
    "\n",
    "\n"
   ]
  },
  {
   "cell_type": "code",
   "execution_count": 5,
   "metadata": {},
   "outputs": [],
   "source": [
    "diagram, visualizer, plant = create_scene(sim_time_step=0.0001)"
   ]
  },
  {
   "cell_type": "code",
   "execution_count": 122,
   "metadata": {},
   "outputs": [
    {
     "ename": "NameError",
     "evalue": "name 'plant' is not defined",
     "output_type": "error",
     "traceback": [
      "\u001b[0;31m---------------------------------------------------------------------------\u001b[0m",
      "\u001b[0;31mNameError\u001b[0m                                 Traceback (most recent call last)",
      "Cell \u001b[0;32mIn[122], line 3\u001b[0m\n\u001b[1;32m      1\u001b[0m \u001b[39mfrom\u001b[39;00m \u001b[39mpydrake\u001b[39;00m\u001b[39m.\u001b[39;00m\u001b[39mmultibody\u001b[39;00m\u001b[39m.\u001b[39;00m\u001b[39mtree\u001b[39;00m \u001b[39mimport\u001b[39;00m RigidBody\n\u001b[0;32m----> 3\u001b[0m cylinder_body \u001b[39m=\u001b[39m plant\u001b[39m.\u001b[39mGetRigidBodyByName(\u001b[39m\"\u001b[39m\u001b[39mcylinder_link\u001b[39m\u001b[39m\"\u001b[39m)\n\u001b[1;32m      5\u001b[0m \u001b[39mdef\u001b[39;00m \u001b[39mprint_spatial_inertia_params\u001b[39m(body):\n\u001b[1;32m      6\u001b[0m     spatial_inertia \u001b[39m=\u001b[39m cylinder_body\u001b[39m.\u001b[39mdefault_spatial_inertia()\n",
      "\u001b[0;31mNameError\u001b[0m: name 'plant' is not defined"
     ]
    }
   ],
   "source": [
    "from pydrake.multibody.tree import RigidBody\n",
    "\n",
    "cylinder_body = plant.GetRigidBodyByName(\"cylinder_link\")\n",
    "\n",
    "def print_spatial_inertia_params(body):\n",
    "    spatial_inertia = cylinder_body.default_spatial_inertia()\n",
    "    print(\"Spatial Inertia Parameters for:\", cylinder_body.name())\n",
    "    print(\"Mass\", spatial_inertia.get_mass())\n",
    "    print(\"COM\", spatial_inertia.get_com())\n",
    "    print(\"Unit Inertia\", spatial_inertia.get_unit_inertia().CopyToFullMatrix3())\n",
    "\n",
    "def print_spatial_inertia_params(body, context):\n",
    "    spatial_inertia = cylinder_body.CalcSpatialInertiaInBodyFrame(context)\n",
    "    print(\"Spatial Inertia Parameters for:\", cylinder_body.name())\n",
    "    print(\"Mass\", spatial_inertia.get_mass())\n",
    "    print(\"COM\", spatial_inertia.get_com())\n",
    "    print(\"Unit Inertia\", spatial_inertia.get_unit_inertia().CopyToFullMatrix3())\n",
    "\n",
    "default_context = plant.CreateDefaultContext()\n",
    "print_spatial_inertia_params(cylinder_body, default_context)\n",
    "\n",
    "adjusted_context = plant.CreateDefaultContext()\n",
    "RigidBody.SetMass(cylinder_body, adjusted_context, 0.1)\n",
    "print_spatial_inertia_params(cylinder_body, adjusted_context)"
   ]
  },
  {
   "cell_type": "code",
   "execution_count": 154,
   "metadata": {},
   "outputs": [
    {
     "name": "stdout",
     "output_type": "stream",
     "text": [
      "[0.0, 0.0]\n",
      "::_ Context (of a Diagram)\n",
      "---------------------------\n",
      "1 total continuous states\n",
      "2 total discrete states in 1 groups\n",
      "58 total numeric parameters in 7 groups\n",
      "2 total abstract parameters\n",
      "\n",
      "::_::plant Context\n",
      "-------------------\n",
      "Time: 0\n",
      "States:\n",
      "  1 discrete state groups with\n",
      "     2 states\n",
      "       0 0\n",
      "\n",
      "Parameters:\n",
      "  7 numeric parameter groups with\n",
      "     1 parameters\n",
      "       0\n",
      "     1 parameters\n",
      "       1\n",
      "     10 parameters\n",
      "       nan nan nan nan nan nan nan nan nan nan\n",
      "     10 parameters\n",
      "        10   0   0   0 0.1 0.1 0.1   0   0   0\n",
      "     12 parameters\n",
      "       1 0 0 0 1 0 0 0 1 0 0 0\n",
      "     12 parameters\n",
      "         1   0   0   0   1   0   0   0   1   0   0 0.5\n",
      "     12 parameters\n",
      "         1   0   0   0   1   0   0   0   1   0   0 0.5\n",
      "  1 abstract parameters\n",
      "\n",
      "::_::scene_graph Context\n",
      "-------------------------\n",
      "Time: 0\n",
      "Parameters:\n",
      "  1 abstract parameters\n",
      "\n",
      "::_::controller Context\n",
      "------------------------\n",
      "Time: 0\n",
      "States:\n",
      "  1 continuous states\n",
      "    0\n",
      "\n",
      "\n"
     ]
    },
    {
     "data": {
      "image/svg+xml": "<svg xmlns=\"http://www.w3.org/2000/svg\" xmlns:xlink=\"http://www.w3.org/1999/xlink\" width=\"1113pt\" height=\"724pt\" viewBox=\"0.00 0.00 1113.00 724.00\">\n<g id=\"graph0\" class=\"graph\" transform=\"scale(1 1) rotate(0) translate(4 720)\">\n<title>_6011042400</title>\n<polygon fill=\"white\" stroke=\"none\" points=\"-4,4 -4,-720 1109,-720 1109,4 -4,4\"/>\n<g id=\"clust1\" class=\"cluster\">\n<title>cluster6011042400diagram</title>\n<polygon fill=\"none\" stroke=\"black\" points=\"8,-8 8,-708 1097,-708 1097,-8 8,-8\"/>\n<text text-anchor=\"middle\" x=\"552.5\" y=\"-692.8\" font-family=\"Times,serif\" font-size=\"14.00\">6011042400</text>\n</g>\n<g id=\"clust2\" class=\"cluster\">\n<title>cluster6011042400inputports</title>\n<polygon fill=\"lightgrey\" stroke=\"lightgrey\" points=\"164.61,-602 164.61,-677 370.39,-677 370.39,-602 164.61,-602\"/>\n<text text-anchor=\"middle\" x=\"267.5\" y=\"-661.8\" font-family=\"Times,serif\" font-size=\"14.00\">input ports</text>\n</g>\n<g id=\"clust4\" class=\"cluster\">\n<title>cluster6011042400subsystems</title>\n<polygon fill=\"none\" stroke=\"white\" points=\"16,-16 16,-594 1089,-594 1089,-16 16,-16\"/>\n</g>\n<!-- _6011042400_u0 -->\n<g id=\"node1\" class=\"node\">\n<title>_6011042400_u0</title>\n<ellipse fill=\"none\" stroke=\"blue\" cx=\"267.5\" cy=\"-628\" rx=\"94.78\" ry=\"18\"/>\n<text text-anchor=\"middle\" x=\"267.5\" y=\"-624.3\" font-family=\"Times,serif\" font-size=\"14.00\">controller_desired_state</text>\n</g>\n<!-- 6011018864 -->\n<g id=\"node4\" class=\"node\">\n<title>6011018864</title>\n<polygon fill=\"none\" stroke=\"black\" points=\"597.5,-362.5 597.5,-431.5 666.5,-431.5 666.5,-362.5 597.5,-362.5\"/>\n<text text-anchor=\"middle\" x=\"632\" y=\"-416.3\" font-family=\"Times,serif\" font-size=\"14.00\">controller</text>\n<polyline fill=\"none\" stroke=\"black\" points=\"597.5,-408.5 666.5,-408.5\"/>\n<text text-anchor=\"middle\" x=\"618\" y=\"-393.3\" font-family=\"Times,serif\" font-size=\"14.00\">x</text>\n<polyline fill=\"none\" stroke=\"black\" points=\"597.5,-385.5 638.5,-385.5\"/>\n<text text-anchor=\"middle\" x=\"618\" y=\"-370.3\" font-family=\"Times,serif\" font-size=\"14.00\">x_d</text>\n<polyline fill=\"none\" stroke=\"black\" points=\"638.5,-362.5 638.5,-408.5\"/>\n<text text-anchor=\"middle\" x=\"652.5\" y=\"-381.8\" font-family=\"Times,serif\" font-size=\"14.00\">y</text>\n</g>\n<!-- _6011042400_u0&#45;&gt;6011018864 -->\n<g id=\"edge7\" class=\"edge\">\n<title>_6011042400_u0-&gt;6011018864:u1</title>\n<path fill=\"none\" stroke=\"blue\" d=\"M342.48,-639.38C395.8,-643.2 466.02,-638.54 511,-598 587.08,-529.42 496.92,-385.51 584.71,-374.65\"/>\n<polygon fill=\"blue\" stroke=\"blue\" points=\"584.71,-378.16 594.49,-374.09 584.3,-371.17 584.71,-378.16\"/>\n</g>\n<!-- 5422081536 -->\n<g id=\"node2\" class=\"node\">\n<title>5422081536</title>\n<polygon fill=\"none\" stroke=\"black\" points=\"24,-79 24,-585 511,-585 511,-79 24,-79\"/>\n<text text-anchor=\"middle\" x=\"267.5\" y=\"-569.8\" font-family=\"Times,serif\" font-size=\"14.00\">plant</text>\n<polyline fill=\"none\" stroke=\"black\" points=\"24,-562 511,-562\"/>\n<text text-anchor=\"middle\" x=\"121\" y=\"-523.8\" font-family=\"Times,serif\" font-size=\"14.00\">geometry_query</text>\n<polyline fill=\"none\" stroke=\"black\" points=\"24,-493 218,-493\"/>\n<text text-anchor=\"middle\" x=\"121\" y=\"-454.8\" font-family=\"Times,serif\" font-size=\"14.00\">WorldModelInstance_actuation</text>\n<polyline fill=\"none\" stroke=\"black\" points=\"24,-424 218,-424\"/>\n<text text-anchor=\"middle\" x=\"121\" y=\"-385.8\" font-family=\"Times,serif\" font-size=\"14.00\">DefaultModelInstance_actuation</text>\n<polyline fill=\"none\" stroke=\"black\" points=\"24,-355 218,-355\"/>\n<text text-anchor=\"middle\" x=\"121\" y=\"-316.8\" font-family=\"Times,serif\" font-size=\"14.00\">pendulum_actuation</text>\n<polyline fill=\"none\" stroke=\"black\" points=\"24,-286 218,-286\"/>\n<text text-anchor=\"middle\" x=\"121\" y=\"-247.8\" font-family=\"Times,serif\" font-size=\"14.00\">actuation</text>\n<polyline fill=\"none\" stroke=\"black\" points=\"24,-217 218,-217\"/>\n<text text-anchor=\"middle\" x=\"121\" y=\"-178.8\" font-family=\"Times,serif\" font-size=\"14.00\">applied_generalized_force</text>\n<polyline fill=\"none\" stroke=\"black\" points=\"24,-148 218,-148\"/>\n<text text-anchor=\"middle\" x=\"121\" y=\"-109.8\" font-family=\"Times,serif\" font-size=\"14.00\">applied_spatial_force</text>\n<polyline fill=\"none\" stroke=\"black\" points=\"218,-79 218,-562\"/>\n<text text-anchor=\"middle\" x=\"364.5\" y=\"-546.8\" font-family=\"Times,serif\" font-size=\"14.00\">geometry_pose</text>\n<polyline fill=\"none\" stroke=\"black\" points=\"218,-539 511,-539\"/>\n<text text-anchor=\"middle\" x=\"364.5\" y=\"-523.8\" font-family=\"Times,serif\" font-size=\"14.00\">state</text>\n<polyline fill=\"none\" stroke=\"black\" points=\"218,-516 511,-516\"/>\n<text text-anchor=\"middle\" x=\"364.5\" y=\"-500.8\" font-family=\"Times,serif\" font-size=\"14.00\">continuous_state</text>\n<polyline fill=\"none\" stroke=\"black\" points=\"218,-493 511,-493\"/>\n<text text-anchor=\"middle\" x=\"364.5\" y=\"-477.8\" font-family=\"Times,serif\" font-size=\"14.00\">body_poses</text>\n<polyline fill=\"none\" stroke=\"black\" points=\"218,-470 511,-470\"/>\n<text text-anchor=\"middle\" x=\"364.5\" y=\"-454.8\" font-family=\"Times,serif\" font-size=\"14.00\">spatial_velocities</text>\n<polyline fill=\"none\" stroke=\"black\" points=\"218,-447 511,-447\"/>\n<text text-anchor=\"middle\" x=\"364.5\" y=\"-431.8\" font-family=\"Times,serif\" font-size=\"14.00\">spatial_accelerations</text>\n<polyline fill=\"none\" stroke=\"black\" points=\"218,-424 511,-424\"/>\n<text text-anchor=\"middle\" x=\"364.5\" y=\"-408.8\" font-family=\"Times,serif\" font-size=\"14.00\">generalized_acceleration</text>\n<polyline fill=\"none\" stroke=\"black\" points=\"218,-401 511,-401\"/>\n<text text-anchor=\"middle\" x=\"364.5\" y=\"-385.8\" font-family=\"Times,serif\" font-size=\"14.00\">WorldModelInstance_state</text>\n<polyline fill=\"none\" stroke=\"black\" points=\"218,-378 511,-378\"/>\n<text text-anchor=\"middle\" x=\"364.5\" y=\"-362.8\" font-family=\"Times,serif\" font-size=\"14.00\">WorldModelInstance_continuous_state</text>\n<polyline fill=\"none\" stroke=\"black\" points=\"218,-355 511,-355\"/>\n<text text-anchor=\"middle\" x=\"364.5\" y=\"-339.8\" font-family=\"Times,serif\" font-size=\"14.00\">WorldModelInstance_generalized_acceleration</text>\n<polyline fill=\"none\" stroke=\"black\" points=\"218,-332 511,-332\"/>\n<text text-anchor=\"middle\" x=\"364.5\" y=\"-316.8\" font-family=\"Times,serif\" font-size=\"14.00\">DefaultModelInstance_state</text>\n<polyline fill=\"none\" stroke=\"black\" points=\"218,-309 511,-309\"/>\n<text text-anchor=\"middle\" x=\"364.5\" y=\"-293.8\" font-family=\"Times,serif\" font-size=\"14.00\">DefaultModelInstance_continuous_state</text>\n<polyline fill=\"none\" stroke=\"black\" points=\"218,-286 511,-286\"/>\n<text text-anchor=\"middle\" x=\"364.5\" y=\"-270.8\" font-family=\"Times,serif\" font-size=\"14.00\">DefaultModelInstance_generalized_acceleration</text>\n<polyline fill=\"none\" stroke=\"black\" points=\"218,-263 511,-263\"/>\n<text text-anchor=\"middle\" x=\"364.5\" y=\"-247.8\" font-family=\"Times,serif\" font-size=\"14.00\">pendulum_state</text>\n<polyline fill=\"none\" stroke=\"black\" points=\"218,-240 511,-240\"/>\n<text text-anchor=\"middle\" x=\"364.5\" y=\"-224.8\" font-family=\"Times,serif\" font-size=\"14.00\">pendulum_continuous_state</text>\n<polyline fill=\"none\" stroke=\"black\" points=\"218,-217 511,-217\"/>\n<text text-anchor=\"middle\" x=\"364.5\" y=\"-201.8\" font-family=\"Times,serif\" font-size=\"14.00\">pendulum_generalized_acceleration</text>\n<polyline fill=\"none\" stroke=\"black\" points=\"218,-194 511,-194\"/>\n<text text-anchor=\"middle\" x=\"364.5\" y=\"-178.8\" font-family=\"Times,serif\" font-size=\"14.00\">WorldModelInstance_generalized_contact_forces</text>\n<polyline fill=\"none\" stroke=\"black\" points=\"218,-171 511,-171\"/>\n<text text-anchor=\"middle\" x=\"364.5\" y=\"-155.8\" font-family=\"Times,serif\" font-size=\"14.00\">DefaultModelInstance_generalized_contact_forces</text>\n<polyline fill=\"none\" stroke=\"black\" points=\"218,-148 511,-148\"/>\n<text text-anchor=\"middle\" x=\"364.5\" y=\"-132.8\" font-family=\"Times,serif\" font-size=\"14.00\">pendulum_generalized_contact_forces</text>\n<polyline fill=\"none\" stroke=\"black\" points=\"218,-125 511,-125\"/>\n<text text-anchor=\"middle\" x=\"364.5\" y=\"-109.8\" font-family=\"Times,serif\" font-size=\"14.00\">reaction_forces</text>\n<polyline fill=\"none\" stroke=\"black\" points=\"218,-102 511,-102\"/>\n<text text-anchor=\"middle\" x=\"364.5\" y=\"-86.8\" font-family=\"Times,serif\" font-size=\"14.00\">contact_results</text>\n</g>\n<!-- 6132618896 -->\n<g id=\"node3\" class=\"node\">\n<title>6132618896</title>\n<polygon fill=\"none\" stroke=\"black\" points=\"547,-516.5 547,-585.5 717,-585.5 717,-516.5 547,-516.5\"/>\n<text text-anchor=\"middle\" x=\"632\" y=\"-570.3\" font-family=\"Times,serif\" font-size=\"14.00\">scene_graph</text>\n<polyline fill=\"none\" stroke=\"black\" points=\"547,-562.5 717,-562.5\"/>\n<text text-anchor=\"middle\" x=\"608.5\" y=\"-547.3\" font-family=\"Times,serif\" font-size=\"14.00\">plant_pose</text>\n<polyline fill=\"none\" stroke=\"black\" points=\"547,-539.5 670,-539.5\"/>\n<text text-anchor=\"middle\" x=\"608.5\" y=\"-524.3\" font-family=\"Times,serif\" font-size=\"14.00\">plant_configuration</text>\n<polyline fill=\"none\" stroke=\"black\" points=\"670,-516.5 670,-562.5\"/>\n<text text-anchor=\"middle\" x=\"693.5\" y=\"-535.8\" font-family=\"Times,serif\" font-size=\"14.00\">query</text>\n</g>\n<!-- 5422081536&#45;&gt;6132618896 -->\n<g id=\"edge6\" class=\"edge\">\n<title>5422081536:y0-&gt;6132618896:u0</title>\n<path fill=\"none\" stroke=\"black\" d=\"M511,-551C522.38,-551 527.68,-551 535.55,-551\"/>\n<polygon fill=\"black\" stroke=\"black\" points=\"535.49,-554.5 545.49,-551 535.49,-547.5 535.49,-554.5\"/>\n</g>\n<!-- 5422081536&#45;&gt;6011018864 -->\n<g id=\"edge3\" class=\"edge\">\n<title>5422081536:y1-&gt;6011018864:u0</title>\n<path fill=\"none\" stroke=\"black\" d=\"M511,-528C552.44,-528 523.19,-475.91 547,-442 561.54,-421.3 565.42,-403.08 584.75,-398.25\"/>\n<polygon fill=\"black\" stroke=\"black\" points=\"584.94,-401.75 594.5,-397.17 584.17,-394.79 584.94,-401.75\"/>\n</g>\n<!-- 6011027440 -->\n<g id=\"node5\" class=\"node\">\n<title>6011027440</title>\n<polygon fill=\"none\" stroke=\"black\" points=\"602.5,-451 602.5,-497 661.5,-497 661.5,-451 602.5,-451\"/>\n<text text-anchor=\"middle\" x=\"632\" y=\"-481.8\" font-family=\"Times,serif\" font-size=\"14.00\">logger</text>\n<polyline fill=\"none\" stroke=\"black\" points=\"602.5,-474 661.5,-474\"/>\n<text text-anchor=\"middle\" x=\"622\" y=\"-458.8\" font-family=\"Times,serif\" font-size=\"14.00\">data</text>\n<polyline fill=\"none\" stroke=\"black\" points=\"641.5,-451 641.5,-474\"/>\n<text text-anchor=\"middle\" x=\"651.5\" y=\"-458.8\" font-family=\"Times,serif\" font-size=\"14.00\"> </text>\n</g>\n<!-- 5422081536&#45;&gt;6011027440 -->\n<g id=\"edge4\" class=\"edge\">\n<title>5422081536:y1-&gt;6011027440:u0</title>\n<path fill=\"none\" stroke=\"black\" d=\"M511,-528C532.41,-528 565.44,-478.81 590.03,-465.36\"/>\n<polygon fill=\"black\" stroke=\"black\" points=\"591.02,-468.72 599.55,-462.44 588.97,-462.03 591.02,-468.72\"/>\n</g>\n<!-- 6132618896&#45;&gt;5422081536 -->\n<g id=\"edge1\" class=\"edge\">\n<title>6132618896:y0-&gt;5422081536:u0</title>\n<path fill=\"none\" stroke=\"black\" d=\"M694,-515C694,-506.83 553.96,-511.73 547,-516 517.34,-534.18 540.72,-567.42 511,-585.5 487.86,-599.57 42.82,-604.48 23.5,-585.5 8.55,-570.8 0.25,-541.53 11.87,-531.48\"/>\n<polygon fill=\"black\" stroke=\"black\" points=\"12.65,-534.91 21.06,-528.47 10.47,-528.25 12.65,-534.91\"/>\n</g>\n<!-- 6011035168 -->\n<g id=\"node6\" class=\"node\">\n<title>6011035168</title>\n<polygon fill=\"none\" stroke=\"black\" points=\"753,-528 753,-574 1081,-574 1081,-528 753,-528\"/>\n<text text-anchor=\"middle\" x=\"917\" y=\"-558.8\" font-family=\"Times,serif\" font-size=\"14.00\">drake/geometry/MeshcatVisualizer@0000000166491e20</text>\n<polyline fill=\"none\" stroke=\"black\" points=\"753,-551 1081,-551\"/>\n<text text-anchor=\"middle\" x=\"851.5\" y=\"-535.8\" font-family=\"Times,serif\" font-size=\"14.00\">query_object</text>\n<polyline fill=\"none\" stroke=\"black\" points=\"950,-528 950,-551\"/>\n<text text-anchor=\"middle\" x=\"1015.5\" y=\"-535.8\" font-family=\"Times,serif\" font-size=\"14.00\"> </text>\n</g>\n<!-- 6132618896&#45;&gt;6011035168 -->\n<g id=\"edge5\" class=\"edge\">\n<title>6132618896:y0-&gt;6011035168:u0</title>\n<path fill=\"none\" stroke=\"black\" d=\"M717,-539C728.38,-539 733.68,-539 741.55,-539\"/>\n<polygon fill=\"black\" stroke=\"black\" points=\"741.49,-542.5 751.49,-539 741.49,-535.5 741.49,-542.5\"/>\n</g>\n<!-- 6011018864&#45;&gt;5422081536 -->\n<g id=\"edge2\" class=\"edge\">\n<title>6011018864:y0-&gt;5422081536:u4</title>\n<path fill=\"none\" stroke=\"black\" d=\"M653,-361C653,-220.48 630.62,-152.25 511,-78.5 499.47,-71.39 33.1,-68.95 23.5,-78.5 11.87,-90.06 5.38,-208.08 15.75,-241.96\"/>\n<polygon fill=\"black\" stroke=\"black\" points=\"12.81,-243.87 21.59,-249.79 18.42,-239.68 12.81,-243.87\"/>\n</g>\n<!-- \\n -->\n<g id=\"node7\" class=\"node\">\n<title>\\n</title>\n<ellipse fill=\"none\" stroke=\"black\" cx=\"267.5\" cy=\"-42\" rx=\"27\" ry=\"18\"/>\n</g>\n</g>\n</svg>",
      "text/plain": [
       "<IPython.core.display.SVG object>"
      ]
     },
     "metadata": {},
     "output_type": "display_data"
    },
    {
     "data": {
      "image/png": "[encoded data removed]",
      "text/plain": [
       "<Figure size 640x480 with 1 Axes>"
      ]
     },
     "metadata": {},
     "output_type": "display_data"
    }
   ],
   "source": [
    "def initialize_simulation(diagram, plant):\n",
    "    simulator = Simulator(diagram)\n",
    "\n",
    "    context = simulator.get_mutable_context()\n",
    "    default_state_vector = context.get_mutable_discrete_state_vector()\n",
    "    print(default_state_vector)\n",
    "\n",
    "    cylinder_body = plant.GetRigidBodyByName(\"pendulum_link\")\n",
    "    RigidBody.SetMass(cylinder_body, context, 10.)\n",
    "\n",
    "    print(context)\n",
    "    context.SetDiscreteState(np.array([0.5, 0]))\n",
    "\n",
    "    diagram.get_input_port(0).FixValue(context, [0.0, 0.])\n",
    "\n",
    "    # Fix input port to zero\n",
    "    # plant_context = diagram.GetMutableSubsystemContext(\n",
    "    #     plant, simulator.get_mutable_context()\n",
    "    # )\n",
    "    # plant.get_actuation_input_port().FixValue(\n",
    "    #     plant_context, np.zeros(plant.num_actuators())\n",
    "    # )\n",
    "\n",
    "    display(SVG(pydot.graph_from_dot_data(\n",
    "        diagram.GetGraphvizString(max_depth=2))[0].create_svg()))\n",
    "\n",
    "    simulator.Initialize()\n",
    "    simulator.set_target_realtime_rate(1,)\n",
    "    return simulator\n",
    "\n",
    "def run_simulation(sim_time_step):\n",
    "    diagram, visualizer, plant, logger = create_scene(sim_time_step)\n",
    "    simulator = initialize_simulation(diagram, plant)\n",
    "    visualizer.StartRecording()\n",
    "    simulator.AdvanceTo(1.0)\n",
    "    visualizer.PublishRecording\n",
    "\n",
    "    log = logger.FindLog(simulator.get_context())\n",
    "    t = log.sample_times()\n",
    "\n",
    "    plt.figure()\n",
    "    plt.plot(t, log.data()[0,:])\n",
    "    plt.plot(t, log.data()[1,:])\n",
    "\n",
    "run_simulation(sim_time_step=0.0001)"
   ]
  },
  {
   "cell_type": "code",
   "execution_count": 157,
   "metadata": {},
   "outputs": [
    {
     "data": {
      "text/plain": [
       "array([-8.36216447e-02, -1.23177281e+02])"
      ]
     },
     "execution_count": 157,
     "metadata": {},
     "output_type": "execute_result"
    }
   ],
   "source": [
    "np.random.randn(2) * np.array([1, 100])"
   ]
  },
  {
   "cell_type": "code",
   "execution_count": 3,
   "metadata": {},
   "outputs": [
    {
     "data": {
      "text/plain": [
       "array([1, 1, 1])"
      ]
     },
     "execution_count": 3,
     "metadata": {},
     "output_type": "execute_result"
    }
   ],
   "source": [
    "import numpy as np\n",
    "np.maximum([1,1,1], [0,0,0])\n",
    "np.maximum([1,1,1], [0,0,0])"
   ]
  }
 ],
 "metadata": {
  "kernelspec": {
   "display_name": "slider_state_estimation",
   "language": "python",
   "name": "python3"
  },
  "language_info": {
   "codemirror_mode": {
    "name": "ipython",
    "version": 3
   },
   "file_extension": ".py",
   "mimetype": "text/x-python",
   "name": "python",
   "nbconvert_exporter": "python",
   "pygments_lexer": "ipython3",
   "version": "3.10.8"
  },
  "orig_nbformat": 4
 },
 "nbformat": 4,
 "nbformat_minor": 2
}
