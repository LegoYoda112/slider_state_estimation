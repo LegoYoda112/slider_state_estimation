{
 "cells": [
  {
   "cell_type": "code",
   "execution_count": 13,
   "metadata": {},
   "outputs": [],
   "source": [
    "import numpy as np\n",
    "import os\n",
    "\n",
    "from matplotlib import pyplot as plt\n",
    "\n",
    "import pydot\n",
    "\n",
    "from IPython.display import SVG, display\n",
    "\n",
    "from pydrake.common import temp_directory\n",
    "from pydrake.geometry import (\n",
    "    MeshcatVisualizer,\n",
    "    MeshcatVisualizerParams,\n",
    "    Role,\n",
    "    StartMeshcat,\n",
    ")\n",
    "\n",
    "from pydrake.math import RigidTransform, RollPitchYaw\n",
    "from pydrake.multibody.parsing import Parser\n",
    "from pydrake.multibody.plant import AddMultibodyPlantSceneGraph\n",
    "from pydrake.systems.analysis import Simulator\n",
    "from pydrake.systems.framework import DiagramBuilder\n",
    "from pydrake.visualization import ModelVisualizer\n",
    "from pydrake.systems.primitives import LogVectorOutput\n",
    "from pydrake.systems.controllers import PidController\n",
    "from pydrake.multibody.tree import RigidBody\n",
    "\n",
    "test_mode = True if \"TEST_SRCDIR\" in os.environ else False"
   ]
  },
  {
   "cell_type": "code",
   "execution_count": 7,
   "metadata": {},
   "outputs": [
    {
     "name": "stderr",
     "output_type": "stream",
     "text": [
      "INFO:drake:Meshcat listening for connections at http://localhost:7001\n"
     ]
    }
   ],
   "source": [
    "meshcat = StartMeshcat()"
   ]
  },
  {
   "cell_type": "code",
   "execution_count": 10,
   "metadata": {},
   "outputs": [
    {
     "name": "stdout",
     "output_type": "stream",
     "text": [
      "Click 'Stop Running' or press Esc to quit\n"
     ]
    },
    {
     "data": {
      "text/plain": [
       "<RunResult.STOPPED: 2>"
      ]
     },
     "execution_count": 10,
     "metadata": {},
     "output_type": "execute_result"
    }
   ],
   "source": [
    "# Define a simple cylinder model.\n",
    "pendulum_sdf = \"\"\"<?xml version=\"1.0\"?>\n",
    "<sdf version=\"1.7\">\n",
    "  <model name=\"pendulum\">\n",
    "    <pose>0 0 0 0 0 0</pose>\n",
    "    <link name = \"pendulum_link\">\n",
    "      <inertial>\n",
    "        <mass>1.0</mass>\n",
    "      </inertial>\n",
    "      <visual name=\"base\">\n",
    "        <geometry>\n",
    "          <cylinder>\n",
    "            <radius>0.1</radius>\n",
    "            <length>1.0</length>\n",
    "          </cylinder>\n",
    "        </geometry>\n",
    "      </visual>\n",
    "      <collision name=\"base_col\">\n",
    "        <geometry>\n",
    "          <cylinder>\n",
    "            <radius>0.1</radius>\n",
    "            <length>1.0</length>\n",
    "          </cylinder>\n",
    "        </geometry>\n",
    "      </collision>\n",
    "    </link>\n",
    "\n",
    "    <link name = \"pendulum_link_2\">\n",
    "      <pose>0 0 -1.0 0 0 0</pose>\n",
    "      <inertial>\n",
    "        <mass>1.0</mass>\n",
    "      </inertial>\n",
    "      <visual name=\"base\">\n",
    "        <geometry>\n",
    "          <cylinder>\n",
    "            <radius>0.1</radius>\n",
    "            <length>1.0</length>\n",
    "          </cylinder>\n",
    "        </geometry>\n",
    "      </visual>\n",
    "      <collision name=\"base_col\">\n",
    "        <geometry>\n",
    "          <cylinder>\n",
    "            <radius>0.1</radius>\n",
    "            <length>1.0</length>\n",
    "          </cylinder>\n",
    "        </geometry>\n",
    "      </collision>\n",
    "    </link>\n",
    "\n",
    "    <joint name=\"world_to_upper_pin_joint\" type=\"revolute\">\n",
    "      <parent>world</parent>\n",
    "      <child>pendulum_link</child>\n",
    "      <pose>0 0 0.5 0 0 0</pose>\n",
    "      <axis>\n",
    "        <!-- spins about x axis -->\n",
    "        <xyz>1 0 0</xyz>\n",
    "      </axis>\n",
    "    </joint>\n",
    "\n",
    "    <joint name=\"upper_pin_to_lower_pin_joint\" type=\"revolute\">\n",
    "      <parent>pendulum_link</parent>\n",
    "      <child>pendulum_link_2</child>\n",
    "      <pose>0 0 0.5 0 0 0</pose>\n",
    "      <axis>\n",
    "        <!-- spins about x axis -->\n",
    "        <xyz>1 0 0</xyz>\n",
    "      </axis>\n",
    "    </joint>\n",
    "\n",
    "\n",
    "  </model>\n",
    "</sdf>\n",
    "\"\"\"\n",
    "\n",
    "table_top_sdf = \"\"\"<?xml version=\"1.0\"?>\n",
    "<sdf version=\"1.7\">\n",
    "  <model name=\"table_top\">\n",
    "    <link name=\"table_top_link\">\n",
    "      <visual name=\"visual\">\n",
    "        <pose>0 0 0 0 0 0</pose>\n",
    "        <geometry>\n",
    "          <box>\n",
    "            <size>0.55 1.1 0.05</size>\n",
    "          </box>\n",
    "        </geometry>\n",
    "        <material>\n",
    "         <diffuse>0.9 0.8 0.7 1.0</diffuse>\n",
    "        </material>\n",
    "      </visual>\n",
    "      <collision name=\"collision\">\n",
    "        <pose>0 0 0 0 0 0</pose>\n",
    "        <geometry>\n",
    "          <box>\n",
    "            <size>0.55 1.1 0.05</size>\n",
    "          </box>\n",
    "        </geometry>\n",
    "      </collision>\n",
    "    </link>\n",
    "    <frame name=\"table_top_center\">\n",
    "      <pose relative_to=\"table_top_link\">0 0 0 0 0 0</pose>\n",
    "    </frame>\n",
    "  </model>\n",
    "</sdf>\n",
    "\n",
    "\"\"\"\n",
    "\n",
    "# Visualize the cylinder from the SDFormat string you just defined.\n",
    "visualizer = ModelVisualizer(meshcat=meshcat)\n",
    "visualizer.parser().AddModelsFromString(pendulum_sdf, \"sdf\")\n",
    "# visualizer.parser().AddModelsFromString(table_top_sdf, \"sdf\")\n",
    "\n",
    "# Click the \"Stop Running\" button in MeshCat when you're finished.\n",
    "visualizer.Run(loop_once=test_mode)"
   ]
  },
  {
   "cell_type": "code",
   "execution_count": 35,
   "metadata": {},
   "outputs": [],
   "source": [
    "def create_scene(sim_time_step = 0.0001):\n",
    "\n",
    "    meshcat.Delete()\n",
    "    meshcat.DeleteAddedControls()\n",
    "\n",
    "    builder = DiagramBuilder()\n",
    "    plant, scene_graph = AddMultibodyPlantSceneGraph(\n",
    "        builder, time_step = sim_time_step\n",
    "    )\n",
    "    parser = Parser(plant)\n",
    "\n",
    "    parser.AddModelsFromString(pendulum_sdf, \"sdf\")\n",
    "    # parser.AddModelsFromString(table_top_sdf, \"sdf\")\n",
    "\n",
    "    # table_frame = plant.GetFrameByName(\"table_top_center\")\n",
    "    # plant.WeldFrames(plant.world_frame(), table_frame)\n",
    "\n",
    "    plant.Finalize()\n",
    "    plant_context = plant.CreateDefaultContext()\n",
    "\n",
    "    # Add a PID controller.\n",
    "    # controller = builder.AddNamedSystem(\"controller\",\n",
    "    #                                 PidController(kp=[12.], ki=[1.], kd=[1.]))\n",
    "    \n",
    "    zero_torque = builder.AddSystem(ZeroTorque())\n",
    "\n",
    "    # builder.Connect(plant.get_state_output_port(),\n",
    "    #             controller.get_input_port_estimated_state())\n",
    "    # builder.Connect(controller.get_output_port_control(), plant.get_actuation_input_port())\n",
    "\n",
    "    # builder.ExportInput(controller.get_input_port_desired_state())\n",
    "\n",
    "    plant.get_actuation_input_port().FixValue(plant_context, np.zeros(plant.num_actuators()))\n",
    "\n",
    "    logger = LogVectorOutput(plant.get_state_output_port(), builder)\n",
    "    logger.set_name(\"logger\")\n",
    "\n",
    "    visualizer = MeshcatVisualizer.AddToBuilder(\n",
    "        builder, scene_graph, meshcat,\n",
    "        MeshcatVisualizerParams(role = Role.kPerception, prefix=\"visual\")\n",
    "    )\n",
    "\n",
    "    diagram = builder.Build()\n",
    "\n",
    "    return diagram, visualizer, plant, logger\n",
    "\n",
    "\n"
   ]
  },
  {
   "cell_type": "code",
   "execution_count": 5,
   "metadata": {},
   "outputs": [],
   "source": [
    "diagram, visualizer, plant = create_scene(sim_time_step=0.0001)"
   ]
  },
  {
   "cell_type": "code",
   "execution_count": 122,
   "metadata": {},
   "outputs": [
    {
     "ename": "NameError",
     "evalue": "name 'plant' is not defined",
     "output_type": "error",
     "traceback": [
      "\u001b[0;31m---------------------------------------------------------------------------\u001b[0m",
      "\u001b[0;31mNameError\u001b[0m                                 Traceback (most recent call last)",
      "Cell \u001b[0;32mIn[122], line 3\u001b[0m\n\u001b[1;32m      1\u001b[0m \u001b[39mfrom\u001b[39;00m \u001b[39mpydrake\u001b[39;00m\u001b[39m.\u001b[39;00m\u001b[39mmultibody\u001b[39;00m\u001b[39m.\u001b[39;00m\u001b[39mtree\u001b[39;00m \u001b[39mimport\u001b[39;00m RigidBody\n\u001b[0;32m----> 3\u001b[0m cylinder_body \u001b[39m=\u001b[39m plant\u001b[39m.\u001b[39mGetRigidBodyByName(\u001b[39m\"\u001b[39m\u001b[39mcylinder_link\u001b[39m\u001b[39m\"\u001b[39m)\n\u001b[1;32m      5\u001b[0m \u001b[39mdef\u001b[39;00m \u001b[39mprint_spatial_inertia_params\u001b[39m(body):\n\u001b[1;32m      6\u001b[0m     spatial_inertia \u001b[39m=\u001b[39m cylinder_body\u001b[39m.\u001b[39mdefault_spatial_inertia()\n",
      "\u001b[0;31mNameError\u001b[0m: name 'plant' is not defined"
     ]
    }
   ],
   "source": [
    "from pydrake.multibody.tree import RigidBody\n",
    "\n",
    "cylinder_body = plant.GetRigidBodyByName(\"cylinder_link\")\n",
    "\n",
    "def print_spatial_inertia_params(body):\n",
    "    spatial_inertia = cylinder_body.default_spatial_inertia()\n",
    "    print(\"Spatial Inertia Parameters for:\", cylinder_body.name())\n",
    "    print(\"Mass\", spatial_inertia.get_mass())\n",
    "    print(\"COM\", spatial_inertia.get_com())\n",
    "    print(\"Unit Inertia\", spatial_inertia.get_unit_inertia().CopyToFullMatrix3())\n",
    "\n",
    "def print_spatial_inertia_params(body, context):\n",
    "    spatial_inertia = cylinder_body.CalcSpatialInertiaInBodyFrame(context)\n",
    "    print(\"Spatial Inertia Parameters for:\", cylinder_body.name())\n",
    "    print(\"Mass\", spatial_inertia.get_mass())\n",
    "    print(\"COM\", spatial_inertia.get_com())\n",
    "    print(\"Unit Inertia\", spatial_inertia.get_unit_inertia().CopyToFullMatrix3())\n",
    "\n",
    "default_context = plant.CreateDefaultContext()\n",
    "print_spatial_inertia_params(cylinder_body, default_context)\n",
    "\n",
    "adjusted_context = plant.CreateDefaultContext()\n",
    "RigidBody.SetMass(cylinder_body, adjusted_context, 0.1)\n",
    "print_spatial_inertia_params(cylinder_body, adjusted_context)"
   ]
  },
  {
   "cell_type": "code",
   "execution_count": 36,
   "metadata": {},
   "outputs": [
    {
     "ename": "RuntimeError",
     "evalue": "Pre-finalize calls to 'SetDefaultState()' are not allowed; you must call Finalize() first.",
     "output_type": "error",
     "traceback": [
      "\u001b[0;31m---------------------------------------------------------------------------\u001b[0m",
      "\u001b[0;31mRuntimeError\u001b[0m                              Traceback (most recent call last)",
      "Cell \u001b[0;32mIn[36], line 52\u001b[0m\n\u001b[1;32m     49\u001b[0m     plt\u001b[39m.\u001b[39mplot(t, log\u001b[39m.\u001b[39mdata()[\u001b[39m0\u001b[39m,:])\n\u001b[1;32m     50\u001b[0m     plt\u001b[39m.\u001b[39mplot(t, log\u001b[39m.\u001b[39mdata()[\u001b[39m1\u001b[39m,:])\n\u001b[0;32m---> 52\u001b[0m run_simulation(sim_time_step\u001b[39m=\u001b[39;49m\u001b[39m0.0001\u001b[39;49m)\n",
      "Cell \u001b[0;32mIn[36], line 39\u001b[0m, in \u001b[0;36mrun_simulation\u001b[0;34m(sim_time_step)\u001b[0m\n\u001b[1;32m     38\u001b[0m \u001b[39mdef\u001b[39;00m \u001b[39mrun_simulation\u001b[39m(sim_time_step):\n\u001b[0;32m---> 39\u001b[0m     diagram, visualizer, plant, logger \u001b[39m=\u001b[39m create_scene(sim_time_step)\n\u001b[1;32m     40\u001b[0m     simulator \u001b[39m=\u001b[39m initialize_simulation(diagram, plant)\n\u001b[1;32m     41\u001b[0m     visualizer\u001b[39m.\u001b[39mStartRecording()\n",
      "Cell \u001b[0;32mIn[35], line 18\u001b[0m, in \u001b[0;36mcreate_scene\u001b[0;34m(sim_time_step)\u001b[0m\n\u001b[1;32m     12\u001b[0m parser\u001b[39m.\u001b[39mAddModelsFromString(pendulum_sdf, \u001b[39m\"\u001b[39m\u001b[39msdf\u001b[39m\u001b[39m\"\u001b[39m)\n\u001b[1;32m     13\u001b[0m \u001b[39m# parser.AddModelsFromString(table_top_sdf, \"sdf\")\u001b[39;00m\n\u001b[1;32m     14\u001b[0m \n\u001b[1;32m     15\u001b[0m \u001b[39m# table_frame = plant.GetFrameByName(\"table_top_center\")\u001b[39;00m\n\u001b[1;32m     16\u001b[0m \u001b[39m# plant.WeldFrames(plant.world_frame(), table_frame)\u001b[39;00m\n\u001b[0;32m---> 18\u001b[0m plant_context \u001b[39m=\u001b[39m plant\u001b[39m.\u001b[39;49mCreateDefaultContext()\n\u001b[1;32m     20\u001b[0m \u001b[39m# Add a PID controller.\u001b[39;00m\n\u001b[1;32m     21\u001b[0m \u001b[39m# controller = builder.AddNamedSystem(\"controller\",\u001b[39;00m\n\u001b[1;32m     22\u001b[0m \u001b[39m#                                 PidController(kp=[12.], ki=[1.], kd=[1.]))\u001b[39;00m\n\u001b[0;32m   (...)\u001b[0m\n\u001b[1;32m     27\u001b[0m \n\u001b[1;32m     28\u001b[0m \u001b[39m# builder.ExportInput(controller.get_input_port_desired_state())\u001b[39;00m\n\u001b[1;32m     30\u001b[0m plant\u001b[39m.\u001b[39mget_actuation_input_port()\u001b[39m.\u001b[39mFixValue(plant_context, np\u001b[39m.\u001b[39mzeros(plant\u001b[39m.\u001b[39mnum_actuators()))\n",
      "\u001b[0;31mRuntimeError\u001b[0m: Pre-finalize calls to 'SetDefaultState()' are not allowed; you must call Finalize() first."
     ]
    }
   ],
   "source": [
    "def initialize_simulation(diagram, plant):\n",
    "\n",
    "    simulator = Simulator(diagram)\n",
    "\n",
    "    # plant_context.FixInputPort(plant.get_actuation_input_port().get_index, [0, 0])\n",
    "\n",
    "    # default_state_vector = context.get_mutable_discrete_state_vector()\n",
    "    # print(default_state_vector)\n",
    "\n",
    "    # cylinder_body = plant.GetRigidBodyByName(\"pendulum_link\")\n",
    "    # RigidBody.SetMass(cylinder_body, context, 10.)\n",
    "\n",
    "    # print(context)\n",
    "    # context.SetDiscreteState(np.array([0.5, 0, 0.0, 0.0]))\n",
    "\n",
    "    print(plant.num_actuators())\n",
    "\n",
    "    # plant.get_actuation_input_port().FixValue(context, np.zeros((2, 1)))\n",
    "\n",
    "    # diagram.get_input_port(0).FixValue(context, [0.0, 0.])\n",
    "    # diagram.get_input_port(1).FixValue(context, [0.0, 0.])\n",
    "\n",
    "    # Fix input port to zero\n",
    "    # plant_context = diagram.GetMutableSubsystemContext(\n",
    "    #     plant, simulator.get_mutable_context()\n",
    "    # )\n",
    "    # plant.get_actuation_input_port().FixValue(\n",
    "    #     plant_context, np.zeros(plant.num_actuators())\n",
    "    # )\n",
    "\n",
    "    display(SVG(pydot.graph_from_dot_data(\n",
    "        diagram.GetGraphvizString(max_depth=2))[0].create_svg()))\n",
    "\n",
    "    simulator.Initialize()\n",
    "    simulator.set_target_realtime_rate(1,)\n",
    "    return simulator\n",
    "\n",
    "def run_simulation(sim_time_step):\n",
    "    diagram, visualizer, plant, logger = create_scene(sim_time_step)\n",
    "    simulator = initialize_simulation(diagram, plant)\n",
    "    visualizer.StartRecording()\n",
    "    simulator.AdvanceTo(1.0)\n",
    "    visualizer.PublishRecording\n",
    "\n",
    "    log = logger.FindLog(simulator.get_context())\n",
    "    t = log.sample_times()\n",
    "\n",
    "    plt.figure()\n",
    "    plt.plot(t, log.data()[0,:])\n",
    "    plt.plot(t, log.data()[1,:])\n",
    "\n",
    "run_simulation(sim_time_step=0.0001)"
   ]
  },
  {
   "cell_type": "code",
   "execution_count": 157,
   "metadata": {},
   "outputs": [
    {
     "data": {
      "text/plain": [
       "array([-8.36216447e-02, -1.23177281e+02])"
      ]
     },
     "execution_count": 157,
     "metadata": {},
     "output_type": "execute_result"
    }
   ],
   "source": [
    "np.random.randn(2) * np.array([1, 100])"
   ]
  },
  {
   "cell_type": "code",
   "execution_count": 3,
   "metadata": {},
   "outputs": [
    {
     "data": {
      "text/plain": [
       "array([1, 1, 1])"
      ]
     },
     "execution_count": 3,
     "metadata": {},
     "output_type": "execute_result"
    }
   ],
   "source": [
    "import numpy as np\n",
    "np.maximum([1,1,1], [0,0,0])\n",
    "np.maximum([1,1,1], [0,0,0])"
   ]
  }
 ],
 "metadata": {
  "kernelspec": {
   "display_name": "slider_state_estimation",
   "language": "python",
   "name": "python3"
  },
  "language_info": {
   "codemirror_mode": {
    "name": "ipython",
    "version": 3
   },
   "file_extension": ".py",
   "mimetype": "text/x-python",
   "name": "python",
   "nbconvert_exporter": "python",
   "pygments_lexer": "ipython3",
   "version": "3.10.8"
  },
  "orig_nbformat": 4
 },
 "nbformat": 4,
 "nbformat_minor": 2
}
